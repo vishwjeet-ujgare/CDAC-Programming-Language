{
 "cells": [
  {
   "cell_type": "code",
   "execution_count": 19,
   "id": "1a0e9c62-cdb4-476c-a603-2f72d6e4ab46",
   "metadata": {},
   "outputs": [
    {
     "data": {
      "text/plain": [
       "Department\n",
       "A    34000.500000\n",
       "B    37548.875000\n",
       "C    40664.857143\n",
       "D    43190.952381\n",
       "Name: Salary, dtype: float64"
      ]
     },
     "execution_count": 19,
     "metadata": {},
     "output_type": "execute_result"
    }
   ],
   "source": [
    "import pandas as pd \n",
    "import numpy as np \n",
    "\n",
    "iris = pd.read_csv(\"/home/hpcap/Desktop/Analytics and Statistics/Day_01/iris.csv\")\n",
    "exp_sals = pd.read_csv(\"/home/hpcap/Desktop/Analytics and Statistics/Day_01/Exp_Salaries.csv\")\n",
    "\n",
    "exp_sals.groupby('Department')['Salary'].mean()\n",
    "\n"
   ]
  },
  {
   "cell_type": "code",
   "execution_count": 20,
   "id": "f6311201-a467-4b3b-a740-ec2afa22e994",
   "metadata": {},
   "outputs": [
    {
     "name": "stdout",
     "output_type": "stream",
     "text": [
      "43.42857142857143\n",
      "42.0\n",
      "106.85714285714286\n",
      "42.0\n"
     ]
    }
   ],
   "source": [
    "\n",
    "iris['Sepal.Length'].mean()\n",
    "iris['Sepal.Length'].median()\n",
    "\n",
    "a = np.array([45, 48, 56, 42, 35, 38, 40])\n",
    "print(a.mean())\n",
    "print(np.median(a))\n",
    "\n",
    "a = np.array([45, 48, 500, 42, 35, 38, 40])\n",
    "print(a.mean())\n",
    "print(np.median(a))\n",
    "\n"
   ]
  },
  {
   "cell_type": "code",
   "execution_count": 21,
   "id": "cf6bf975-46cb-44ab-92f8-2b1a627f96b9",
   "metadata": {},
   "outputs": [
    {
     "data": {
      "text/plain": [
       "Gender\n",
       "Female    37001.727273\n",
       "Male      42417.583333\n",
       "Name: Salary, dtype: float64"
      ]
     },
     "execution_count": 21,
     "metadata": {},
     "output_type": "execute_result"
    }
   ],
   "source": [
    "\n",
    "exp_sals['Salary'].mean()\n",
    "males = exp_sals[exp_sals['Gender']=='Male']\n",
    "fem = exp_sals[exp_sals['Gender']=='Female']\n",
    "males['Salary'].mean()\n",
    "fem['Salary'].mean()\n",
    "# or\n",
    "exp_sals.groupby('Gender')['Salary'].mean()"
   ]
  },
  {
   "cell_type": "code",
   "execution_count": 28,
   "id": "6dbc7720-c2e3-4cfe-851f-c472ea4ee55e",
   "metadata": {},
   "outputs": [],
   "source": [
    "import seaborn as sns\n",
    "import matplotlib.pyplot as plt"
   ]
  },
  {
   "cell_type": "code",
   "execution_count": 29,
   "id": "5d81c083-e2a0-4a2f-94da-785e7ce9cfa1",
   "metadata": {},
   "outputs": [
    {
     "data": {
      "image/png": "[encoded data removed]",
      "text/plain": [
       "<Figure size 640x480 with 1 Axes>"
      ]
     },
     "metadata": {},
     "output_type": "display_data"
    }
   ],
   "source": [
    "sns.boxplot(data=exp_sals,x='Gender',y='Salary')\n",
    "plt.show()"
   ]
  },
  {
   "cell_type": "code",
   "execution_count": 31,
   "id": "bcdfb34c-c194-4a06-9d66-a24eaa8e75a8",
   "metadata": {},
   "outputs": [
    {
     "data": {
      "text/plain": [
       "(22, 78)"
      ]
     },
     "execution_count": 31,
     "metadata": {},
     "output_type": "execute_result"
    }
   ],
   "source": [
    "a=np.array([34,56,78,23,22,34,35,38,29,45,56,65,64,72])\n",
    "np.min(a),np.max(a)"
   ]
  },
  {
   "cell_type": "code",
   "execution_count": 33,
   "id": "6fa6d587-a78e-4594-be32-2478876bb76b",
   "metadata": {},
   "outputs": [
    {
     "data": {
      "text/plain": [
       "56"
      ]
     },
     "execution_count": 33,
     "metadata": {},
     "output_type": "execute_result"
    }
   ],
   "source": [
    "np.max(a)-np.min(a)"
   ]
  },
  {
   "cell_type": "markdown",
   "id": "c8d95df7-4411-462d-bf3a-6a2ef1489f3e",
   "metadata": {},
   "source": [
    "Mean"
   ]
  },
  {
   "cell_type": "code",
   "execution_count": 34,
   "id": "e2f62c6f-7246-4b65-9790-d1df257128e8",
   "metadata": {},
   "outputs": [
    {
     "data": {
      "text/plain": [
       "46.5"
      ]
     },
     "execution_count": 34,
     "metadata": {},
     "output_type": "execute_result"
    }
   ],
   "source": [
    "np.mean(a)"
   ]
  },
  {
   "cell_type": "code",
   "execution_count": 35,
   "id": "66c00a80-5479-4ed3-aa71-44f15091a5fd",
   "metadata": {},
   "outputs": [
    {
     "data": {
      "text/plain": [
       "array([34, 56, 78, 23, 22, 34, 35, 38, 29, 45, 56, 65, 64, 72])"
      ]
     },
     "execution_count": 35,
     "metadata": {},
     "output_type": "execute_result"
    }
   ],
   "source": [
    "a"
   ]
  },
  {
   "cell_type": "markdown",
   "id": "2c39b522-1e9a-4cc1-ab1a-ec00f4a16df1",
   "metadata": {},
   "source": [
    "Deviation from Mean"
   ]
  },
  {
   "cell_type": "markdown",
   "id": "8f0aa1ec-a7a1-4ec0-acd0-c727d6439625",
   "metadata": {},
   "source": [
    "a-np.mean(a)"
   ]
  },
  {
   "cell_type": "code",
   "execution_count": 40,
   "id": "69ca68f5-24f6-4321-af8c-fb7cf1ee80d8",
   "metadata": {},
   "outputs": [],
   "source": [
    "a=np.array([34,56,78,23,56,85,98,98,85,72,45,45,45,84,75])\n",
    "b=np.array([898,565,855,693,528,478,789,456,123,321,654,987])"
   ]
  },
  {
   "cell_type": "code",
   "execution_count": 41,
   "id": "4dc27234-9207-419e-b4ab-28ae8fee43d8",
   "metadata": {},
   "outputs": [
    {
     "data": {
      "text/plain": [
       "(516.1955555555555, 22.719937402104687)"
      ]
     },
     "execution_count": 41,
     "metadata": {},
     "output_type": "execute_result"
    }
   ],
   "source": [
    "np.var(a), np.std(a)"
   ]
  },
  {
   "cell_type": "code",
   "execution_count": 42,
   "id": "f3617ee0-e0fe-4d17-8748-ad4a97614123",
   "metadata": {},
   "outputs": [
    {
     "data": {
      "text/plain": [
       "(58040.1875, 240.91531188365758)"
      ]
     },
     "execution_count": 42,
     "metadata": {},
     "output_type": "execute_result"
    }
   ],
   "source": [
    "np.var(b), np.std(b)"
   ]
  },
  {
   "cell_type": "code",
   "execution_count": 43,
   "id": "9fb1fb3b-87be-4466-9538-0cb572ef1081",
   "metadata": {},
   "outputs": [
    {
     "data": {
      "text/plain": [
       "(44.44444444444444, 23.22222222222222)"
      ]
     },
     "execution_count": 43,
     "metadata": {},
     "output_type": "execute_result"
    }
   ],
   "source": [
    "batsman_a=np.array([56,7,0,102,67,23,10,114,21])\n",
    "batsman_b=np.array([56,7,0,10,67,23,10,14,22])\n",
    "np.mean(batsman_a),np.mean(batsman_b)"
   ]
  },
  {
   "cell_type": "code",
   "execution_count": 44,
   "id": "712f0d34-c8a0-4687-b29a-968d1d90b991",
   "metadata": {},
   "outputs": [
    {
     "data": {
      "text/plain": [
       "(1596.2469135802467, 39.95305887638951)"
      ]
     },
     "execution_count": 44,
     "metadata": {},
     "output_type": "execute_result"
    }
   ],
   "source": [
    "np.var(batsman_a),np.std(batsman_a)"
   ]
  },
  {
   "cell_type": "code",
   "execution_count": 45,
   "id": "52417e4e-89ab-4085-a153-1bf81c1d2cde",
   "metadata": {},
   "outputs": [
    {
     "data": {
      "text/plain": [
       "(469.95061728395063, 21.678344431343245)"
      ]
     },
     "execution_count": 45,
     "metadata": {},
     "output_type": "execute_result"
    }
   ],
   "source": [
    "np.var(batsman_b),np.std(batsman_b)"
   ]
  },
  {
   "cell_type": "markdown",
   "id": "799ecddc-0f0a-4cea-889c-b3d1352407cd",
   "metadata": {},
   "source": [
    "Coefficient of Variation"
   ]
  },
  {
   "cell_type": "code",
   "execution_count": 49,
   "id": "74983926-d813-4c98-8a0b-06aad30dacaf",
   "metadata": {},
   "outputs": [
    {
     "data": {
      "text/plain": [
       "(0.4750018325723336, 0.392768879343909)"
      ]
     },
     "execution_count": 49,
     "metadata": {},
     "output_type": "execute_result"
    }
   ],
   "source": [
    "wt_kgs=np.array([23,45,32,45,67,89,24,34])\n",
    "dis_kms=np.array([45,67,89,32,22,86,86,75])\n",
    "np.std(wt_kgs)/np.mean(wt_kgs),np.std(dis_kms)/np.mean(dis_kms)"
   ]
  },
  {
   "cell_type": "code",
   "execution_count": 56,
   "id": "c5819300-63ca-4479-892d-7f16386dfd17",
   "metadata": {},
   "outputs": [
    {
     "data": {
      "text/plain": [
       "(-0.3847458149344716, -0.4307649259678907)"
      ]
     },
     "execution_count": 56,
     "metadata": {},
     "output_type": "execute_result"
    }
   ],
   "source": [
    "test1=np.array([80,45,65,89,65,89,78,56])\n",
    "test2=np.array([52,56,32,45,23,45,23,45])\n",
    "marks=pd.DataFrame({'test1':test1,'test2':test2})\n",
    "marks['test1'].skew(),marks['test2'].skew()"
   ]
  },
  {
   "cell_type": "code",
   "execution_count": 57,
   "id": "b2bad556-ab00-4319-a63c-128103f3f019",
   "metadata": {},
   "outputs": [
    {
     "data": {
      "image/png": "[encoded data removed]",
      "text/plain": [
       "<Figure size 640x480 with 1 Axes>"
      ]
     },
     "metadata": {},
     "output_type": "display_data"
    }
   ],
   "source": [
    "sns.histplot(data=marks,x='test1')\n",
    "plt.show()"
   ]
  },
  {
   "cell_type": "code",
   "execution_count": null,
   "id": "9421ffcf-d3d2-496c-83c8-413d79636bbe",
   "metadata": {},
   "outputs": [],
   "source": []
  }
 ],
 "metadata": {
  "kernelspec": {
   "display_name": "Python 3 (ipykernel)",
   "language": "python",
   "name": "python3"
  },
  "language_info": {
   "codemirror_mode": {
    "name": "ipython",
    "version": 3
   },
   "file_extension": ".py",
   "mimetype": "text/x-python",
   "name": "python",
   "nbconvert_exporter": "python",
   "pygments_lexer": "ipython3",
   "version": "3.10.12"
  }
 },
 "nbformat": 4,
 "nbformat_minor": 5
}
