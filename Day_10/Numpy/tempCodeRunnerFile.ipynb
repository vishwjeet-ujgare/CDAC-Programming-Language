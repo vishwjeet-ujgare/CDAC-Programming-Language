import numpy as np
mat = np.arange(1,26).reshape(5,5)
mat
print(mat)