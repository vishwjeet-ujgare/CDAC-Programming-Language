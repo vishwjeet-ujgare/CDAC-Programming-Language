{
 "cells": [
  {
   "cell_type": "code",
   "execution_count": 13,
   "id": "8c95246c-75be-4181-a2d4-a1cdd276de09",
   "metadata": {},
   "outputs": [],
   "source": [
    "import pandas as pd \n",
    "import numpy as np \n",
    "\n",
    "import os\n",
    "os.chdir (\"/home/hpcap/Desktop/Analytics and Statistics/Datasets\")\n"
   ]
  },
  {
   "cell_type": "code",
   "execution_count": 14,
   "id": "bff01007-3cb1-4593-9341-faac96617bd7",
   "metadata": {},
   "outputs": [
    {
     "data": {
      "text/plain": [
       "(46, 7)"
      ]
     },
     "execution_count": 14,
     "metadata": {},
     "output_type": "execute_result"
    }
   ],
   "source": [
    "df =pd.read_csv(\"Exp_Salaries.csv\")\n",
    "df.shape"
   ]
  },
  {
   "cell_type": "code",
   "execution_count": 15,
   "id": "9b750596-0802-4bf1-9b9d-d974304a51fe",
   "metadata": {},
   "outputs": [
    {
     "data": {
      "text/html": [
       "<div>\n",
       "<style scoped>\n",
       "    .dataframe tbody tr th:only-of-type {\n",
       "        vertical-align: middle;\n",
       "    }\n",
       "\n",
       "    .dataframe tbody tr th {\n",
       "        vertical-align: top;\n",
       "    }\n",
       "\n",
       "    .dataframe thead th {\n",
       "        text-align: right;\n",
       "    }\n",
       "</style>\n",
       "<table border=\"1\" class=\"dataframe\">\n",
       "  <thead>\n",
       "    <tr style=\"text-align: right;\">\n",
       "      <th></th>\n",
       "      <th>Salary</th>\n",
       "      <th>Years_Previous_Experience</th>\n",
       "      <th>Years Employed</th>\n",
       "      <th>Years_Education</th>\n",
       "      <th>Gender</th>\n",
       "      <th>Department</th>\n",
       "      <th>Number_Supervised</th>\n",
       "    </tr>\n",
       "  </thead>\n",
       "  <tbody>\n",
       "    <tr>\n",
       "      <th>0</th>\n",
       "      <td>32782</td>\n",
       "      <td>1</td>\n",
       "      <td>0</td>\n",
       "      <td>7</td>\n",
       "      <td>Male</td>\n",
       "      <td>A</td>\n",
       "      <td>0</td>\n",
       "    </tr>\n",
       "    <tr>\n",
       "      <th>1</th>\n",
       "      <td>32920</td>\n",
       "      <td>3</td>\n",
       "      <td>15</td>\n",
       "      <td>9</td>\n",
       "      <td>Female</td>\n",
       "      <td>A</td>\n",
       "      <td>4</td>\n",
       "    </tr>\n",
       "    <tr>\n",
       "      <th>2</th>\n",
       "      <td>29548</td>\n",
       "      <td>6</td>\n",
       "      <td>5</td>\n",
       "      <td>1</td>\n",
       "      <td>Male</td>\n",
       "      <td>A</td>\n",
       "      <td>0</td>\n",
       "    </tr>\n",
       "    <tr>\n",
       "      <th>3</th>\n",
       "      <td>39828</td>\n",
       "      <td>6</td>\n",
       "      <td>18</td>\n",
       "      <td>5</td>\n",
       "      <td>Female</td>\n",
       "      <td>A</td>\n",
       "      <td>5</td>\n",
       "    </tr>\n",
       "    <tr>\n",
       "      <th>4</th>\n",
       "      <td>31528</td>\n",
       "      <td>11</td>\n",
       "      <td>3</td>\n",
       "      <td>3</td>\n",
       "      <td>Male</td>\n",
       "      <td>A</td>\n",
       "      <td>6</td>\n",
       "    </tr>\n",
       "    <tr>\n",
       "      <th>5</th>\n",
       "      <td>38985</td>\n",
       "      <td>7</td>\n",
       "      <td>18</td>\n",
       "      <td>9</td>\n",
       "      <td>Male</td>\n",
       "      <td>A</td>\n",
       "      <td>5</td>\n",
       "    </tr>\n",
       "    <tr>\n",
       "      <th>6</th>\n",
       "      <td>41889</td>\n",
       "      <td>16</td>\n",
       "      <td>22</td>\n",
       "      <td>7</td>\n",
       "      <td>Male</td>\n",
       "      <td>A</td>\n",
       "      <td>7</td>\n",
       "    </tr>\n",
       "    <tr>\n",
       "      <th>7</th>\n",
       "      <td>38791</td>\n",
       "      <td>4</td>\n",
       "      <td>21</td>\n",
       "      <td>5</td>\n",
       "      <td>Male</td>\n",
       "      <td>A</td>\n",
       "      <td>9</td>\n",
       "    </tr>\n",
       "    <tr>\n",
       "      <th>8</th>\n",
       "      <td>28985</td>\n",
       "      <td>1</td>\n",
       "      <td>0</td>\n",
       "      <td>4</td>\n",
       "      <td>Female</td>\n",
       "      <td>A</td>\n",
       "      <td>4</td>\n",
       "    </tr>\n",
       "    <tr>\n",
       "      <th>9</th>\n",
       "      <td>24749</td>\n",
       "      <td>2</td>\n",
       "      <td>6</td>\n",
       "      <td>0</td>\n",
       "      <td>Female</td>\n",
       "      <td>A</td>\n",
       "      <td>1</td>\n",
       "    </tr>\n",
       "    <tr>\n",
       "      <th>10</th>\n",
       "      <td>35467</td>\n",
       "      <td>6</td>\n",
       "      <td>3</td>\n",
       "      <td>6</td>\n",
       "      <td>Female</td>\n",
       "      <td>B</td>\n",
       "      <td>3</td>\n",
       "    </tr>\n",
       "    <tr>\n",
       "      <th>11</th>\n",
       "      <td>35468</td>\n",
       "      <td>5</td>\n",
       "      <td>9</td>\n",
       "      <td>4</td>\n",
       "      <td>Female</td>\n",
       "      <td>B</td>\n",
       "      <td>5</td>\n",
       "    </tr>\n",
       "    <tr>\n",
       "      <th>12</th>\n",
       "      <td>29876</td>\n",
       "      <td>0</td>\n",
       "      <td>2</td>\n",
       "      <td>3</td>\n",
       "      <td>Female</td>\n",
       "      <td>B</td>\n",
       "      <td>5</td>\n",
       "    </tr>\n",
       "    <tr>\n",
       "      <th>13</th>\n",
       "      <td>43674</td>\n",
       "      <td>9</td>\n",
       "      <td>6</td>\n",
       "      <td>4</td>\n",
       "      <td>Male</td>\n",
       "      <td>B</td>\n",
       "      <td>2</td>\n",
       "    </tr>\n",
       "    <tr>\n",
       "      <th>14</th>\n",
       "      <td>36431</td>\n",
       "      <td>4</td>\n",
       "      <td>9</td>\n",
       "      <td>4</td>\n",
       "      <td>Female</td>\n",
       "      <td>B</td>\n",
       "      <td>2</td>\n",
       "    </tr>\n",
       "    <tr>\n",
       "      <th>15</th>\n",
       "      <td>26578</td>\n",
       "      <td>6</td>\n",
       "      <td>0</td>\n",
       "      <td>2</td>\n",
       "      <td>Female</td>\n",
       "      <td>B</td>\n",
       "      <td>2</td>\n",
       "    </tr>\n",
       "    <tr>\n",
       "      <th>16</th>\n",
       "      <td>36571</td>\n",
       "      <td>1</td>\n",
       "      <td>6</td>\n",
       "      <td>4</td>\n",
       "      <td>Male</td>\n",
       "      <td>B</td>\n",
       "      <td>2</td>\n",
       "    </tr>\n",
       "    <tr>\n",
       "      <th>17</th>\n",
       "      <td>56326</td>\n",
       "      <td>3</td>\n",
       "      <td>12</td>\n",
       "      <td>8</td>\n",
       "      <td>Male</td>\n",
       "      <td>B</td>\n",
       "      <td>6</td>\n",
       "    </tr>\n",
       "    <tr>\n",
       "      <th>18</th>\n",
       "      <td>23654</td>\n",
       "      <td>0</td>\n",
       "      <td>0</td>\n",
       "      <td>0</td>\n",
       "      <td>Female</td>\n",
       "      <td>C</td>\n",
       "      <td>2</td>\n",
       "    </tr>\n",
       "    <tr>\n",
       "      <th>19</th>\n",
       "      <td>36578</td>\n",
       "      <td>4</td>\n",
       "      <td>4</td>\n",
       "      <td>8</td>\n",
       "      <td>Male</td>\n",
       "      <td>C</td>\n",
       "      <td>8</td>\n",
       "    </tr>\n",
       "    <tr>\n",
       "      <th>20</th>\n",
       "      <td>37548</td>\n",
       "      <td>9</td>\n",
       "      <td>19</td>\n",
       "      <td>4</td>\n",
       "      <td>Male</td>\n",
       "      <td>C</td>\n",
       "      <td>6</td>\n",
       "    </tr>\n",
       "    <tr>\n",
       "      <th>21</th>\n",
       "      <td>53234</td>\n",
       "      <td>0</td>\n",
       "      <td>25</td>\n",
       "      <td>6</td>\n",
       "      <td>Male</td>\n",
       "      <td>C</td>\n",
       "      <td>3</td>\n",
       "    </tr>\n",
       "    <tr>\n",
       "      <th>22</th>\n",
       "      <td>54679</td>\n",
       "      <td>3</td>\n",
       "      <td>20</td>\n",
       "      <td>6</td>\n",
       "      <td>Female</td>\n",
       "      <td>C</td>\n",
       "      <td>4</td>\n",
       "    </tr>\n",
       "    <tr>\n",
       "      <th>23</th>\n",
       "      <td>47536</td>\n",
       "      <td>5</td>\n",
       "      <td>15</td>\n",
       "      <td>6</td>\n",
       "      <td>Male</td>\n",
       "      <td>C</td>\n",
       "      <td>4</td>\n",
       "    </tr>\n",
       "    <tr>\n",
       "      <th>24</th>\n",
       "      <td>31425</td>\n",
       "      <td>6</td>\n",
       "      <td>7</td>\n",
       "      <td>5</td>\n",
       "      <td>Female</td>\n",
       "      <td>C</td>\n",
       "      <td>6</td>\n",
       "    </tr>\n",
       "    <tr>\n",
       "      <th>25</th>\n",
       "      <td>65487</td>\n",
       "      <td>0</td>\n",
       "      <td>27</td>\n",
       "      <td>12</td>\n",
       "      <td>Female</td>\n",
       "      <td>D</td>\n",
       "      <td>44</td>\n",
       "    </tr>\n",
       "    <tr>\n",
       "      <th>26</th>\n",
       "      <td>46184</td>\n",
       "      <td>3</td>\n",
       "      <td>20</td>\n",
       "      <td>4</td>\n",
       "      <td>Male</td>\n",
       "      <td>D</td>\n",
       "      <td>1</td>\n",
       "    </tr>\n",
       "    <tr>\n",
       "      <th>27</th>\n",
       "      <td>54899</td>\n",
       "      <td>5</td>\n",
       "      <td>12</td>\n",
       "      <td>8</td>\n",
       "      <td>Female</td>\n",
       "      <td>D</td>\n",
       "      <td>0</td>\n",
       "    </tr>\n",
       "    <tr>\n",
       "      <th>28</th>\n",
       "      <td>34869</td>\n",
       "      <td>5</td>\n",
       "      <td>7</td>\n",
       "      <td>4</td>\n",
       "      <td>Female</td>\n",
       "      <td>D</td>\n",
       "      <td>1</td>\n",
       "    </tr>\n",
       "    <tr>\n",
       "      <th>29</th>\n",
       "      <td>35487</td>\n",
       "      <td>2</td>\n",
       "      <td>8</td>\n",
       "      <td>2</td>\n",
       "      <td>Female</td>\n",
       "      <td>D</td>\n",
       "      <td>2</td>\n",
       "    </tr>\n",
       "    <tr>\n",
       "      <th>30</th>\n",
       "      <td>26548</td>\n",
       "      <td>1</td>\n",
       "      <td>5</td>\n",
       "      <td>0</td>\n",
       "      <td>Male</td>\n",
       "      <td>D</td>\n",
       "      <td>2</td>\n",
       "    </tr>\n",
       "    <tr>\n",
       "      <th>31</th>\n",
       "      <td>34231</td>\n",
       "      <td>2</td>\n",
       "      <td>6</td>\n",
       "      <td>6</td>\n",
       "      <td>Male</td>\n",
       "      <td>D</td>\n",
       "      <td>3</td>\n",
       "    </tr>\n",
       "    <tr>\n",
       "      <th>32</th>\n",
       "      <td>39331</td>\n",
       "      <td>3</td>\n",
       "      <td>9</td>\n",
       "      <td>6</td>\n",
       "      <td>Female</td>\n",
       "      <td>D</td>\n",
       "      <td>1</td>\n",
       "    </tr>\n",
       "    <tr>\n",
       "      <th>33</th>\n",
       "      <td>36512</td>\n",
       "      <td>6</td>\n",
       "      <td>6</td>\n",
       "      <td>4</td>\n",
       "      <td>Female</td>\n",
       "      <td>D</td>\n",
       "      <td>2</td>\n",
       "    </tr>\n",
       "    <tr>\n",
       "      <th>34</th>\n",
       "      <td>68425</td>\n",
       "      <td>2</td>\n",
       "      <td>25</td>\n",
       "      <td>12</td>\n",
       "      <td>Male</td>\n",
       "      <td>D</td>\n",
       "      <td>1</td>\n",
       "    </tr>\n",
       "    <tr>\n",
       "      <th>35</th>\n",
       "      <td>36487</td>\n",
       "      <td>5</td>\n",
       "      <td>6</td>\n",
       "      <td>2</td>\n",
       "      <td>Male</td>\n",
       "      <td>D</td>\n",
       "      <td>3</td>\n",
       "    </tr>\n",
       "    <tr>\n",
       "      <th>36</th>\n",
       "      <td>34632</td>\n",
       "      <td>4</td>\n",
       "      <td>5</td>\n",
       "      <td>4</td>\n",
       "      <td>Male</td>\n",
       "      <td>D</td>\n",
       "      <td>0</td>\n",
       "    </tr>\n",
       "    <tr>\n",
       "      <th>37</th>\n",
       "      <td>46211</td>\n",
       "      <td>5</td>\n",
       "      <td>14</td>\n",
       "      <td>6</td>\n",
       "      <td>Female</td>\n",
       "      <td>D</td>\n",
       "      <td>5</td>\n",
       "    </tr>\n",
       "    <tr>\n",
       "      <th>38</th>\n",
       "      <td>51698</td>\n",
       "      <td>6</td>\n",
       "      <td>18</td>\n",
       "      <td>6</td>\n",
       "      <td>Male</td>\n",
       "      <td>D</td>\n",
       "      <td>1</td>\n",
       "    </tr>\n",
       "    <tr>\n",
       "      <th>39</th>\n",
       "      <td>69246</td>\n",
       "      <td>3</td>\n",
       "      <td>22</td>\n",
       "      <td>10</td>\n",
       "      <td>Male</td>\n",
       "      <td>D</td>\n",
       "      <td>45</td>\n",
       "    </tr>\n",
       "    <tr>\n",
       "      <th>40</th>\n",
       "      <td>48695</td>\n",
       "      <td>19</td>\n",
       "      <td>6</td>\n",
       "      <td>8</td>\n",
       "      <td>Male</td>\n",
       "      <td>D</td>\n",
       "      <td>40</td>\n",
       "    </tr>\n",
       "    <tr>\n",
       "      <th>41</th>\n",
       "      <td>34987</td>\n",
       "      <td>6</td>\n",
       "      <td>9</td>\n",
       "      <td>2</td>\n",
       "      <td>Female</td>\n",
       "      <td>D</td>\n",
       "      <td>3</td>\n",
       "    </tr>\n",
       "    <tr>\n",
       "      <th>42</th>\n",
       "      <td>35631</td>\n",
       "      <td>4</td>\n",
       "      <td>6</td>\n",
       "      <td>4</td>\n",
       "      <td>Male</td>\n",
       "      <td>D</td>\n",
       "      <td>2</td>\n",
       "    </tr>\n",
       "    <tr>\n",
       "      <th>43</th>\n",
       "      <td>39743</td>\n",
       "      <td>6</td>\n",
       "      <td>9</td>\n",
       "      <td>5</td>\n",
       "      <td>Female</td>\n",
       "      <td>D</td>\n",
       "      <td>1</td>\n",
       "    </tr>\n",
       "    <tr>\n",
       "      <th>44</th>\n",
       "      <td>41255</td>\n",
       "      <td>4</td>\n",
       "      <td>9</td>\n",
       "      <td>6</td>\n",
       "      <td>Male</td>\n",
       "      <td>D</td>\n",
       "      <td>4</td>\n",
       "    </tr>\n",
       "    <tr>\n",
       "      <th>45</th>\n",
       "      <td>26452</td>\n",
       "      <td>3</td>\n",
       "      <td>1</td>\n",
       "      <td>2</td>\n",
       "      <td>Female</td>\n",
       "      <td>D</td>\n",
       "      <td>0</td>\n",
       "    </tr>\n",
       "  </tbody>\n",
       "</table>\n",
       "</div>"
      ],
      "text/plain": [
       "    Salary  Years_Previous_Experience  Years Employed  Years_Education  \\\n",
       "0    32782                          1               0                7   \n",
       "1    32920                          3              15                9   \n",
       "2    29548                          6               5                1   \n",
       "3    39828                          6              18                5   \n",
       "4    31528                         11               3                3   \n",
       "5    38985                          7              18                9   \n",
       "6    41889                         16              22                7   \n",
       "7    38791                          4              21                5   \n",
       "8    28985                          1               0                4   \n",
       "9    24749                          2               6                0   \n",
       "10   35467                          6               3                6   \n",
       "11   35468                          5               9                4   \n",
       "12   29876                          0               2                3   \n",
       "13   43674                          9               6                4   \n",
       "14   36431                          4               9                4   \n",
       "15   26578                          6               0                2   \n",
       "16   36571                          1               6                4   \n",
       "17   56326                          3              12                8   \n",
       "18   23654                          0               0                0   \n",
       "19   36578                          4               4                8   \n",
       "20   37548                          9              19                4   \n",
       "21   53234                          0              25                6   \n",
       "22   54679                          3              20                6   \n",
       "23   47536                          5              15                6   \n",
       "24   31425                          6               7                5   \n",
       "25   65487                          0              27               12   \n",
       "26   46184                          3              20                4   \n",
       "27   54899                          5              12                8   \n",
       "28   34869                          5               7                4   \n",
       "29   35487                          2               8                2   \n",
       "30   26548                          1               5                0   \n",
       "31   34231                          2               6                6   \n",
       "32   39331                          3               9                6   \n",
       "33   36512                          6               6                4   \n",
       "34   68425                          2              25               12   \n",
       "35   36487                          5               6                2   \n",
       "36   34632                          4               5                4   \n",
       "37   46211                          5              14                6   \n",
       "38   51698                          6              18                6   \n",
       "39   69246                          3              22               10   \n",
       "40   48695                         19               6                8   \n",
       "41   34987                          6               9                2   \n",
       "42   35631                          4               6                4   \n",
       "43   39743                          6               9                5   \n",
       "44   41255                          4               9                6   \n",
       "45   26452                          3               1                2   \n",
       "\n",
       "    Gender Department  Number_Supervised  \n",
       "0     Male          A                  0  \n",
       "1   Female          A                  4  \n",
       "2     Male          A                  0  \n",
       "3   Female          A                  5  \n",
       "4     Male          A                  6  \n",
       "5     Male          A                  5  \n",
       "6     Male          A                  7  \n",
       "7     Male          A                  9  \n",
       "8   Female          A                  4  \n",
       "9   Female          A                  1  \n",
       "10  Female          B                  3  \n",
       "11  Female          B                  5  \n",
       "12  Female          B                  5  \n",
       "13    Male          B                  2  \n",
       "14  Female          B                  2  \n",
       "15  Female          B                  2  \n",
       "16    Male          B                  2  \n",
       "17    Male          B                  6  \n",
       "18  Female          C                  2  \n",
       "19    Male          C                  8  \n",
       "20    Male          C                  6  \n",
       "21    Male          C                  3  \n",
       "22  Female          C                  4  \n",
       "23    Male          C                  4  \n",
       "24  Female          C                  6  \n",
       "25  Female          D                 44  \n",
       "26    Male          D                  1  \n",
       "27  Female          D                  0  \n",
       "28  Female          D                  1  \n",
       "29  Female          D                  2  \n",
       "30    Male          D                  2  \n",
       "31    Male          D                  3  \n",
       "32  Female          D                  1  \n",
       "33  Female          D                  2  \n",
       "34    Male          D                  1  \n",
       "35    Male          D                  3  \n",
       "36    Male          D                  0  \n",
       "37  Female          D                  5  \n",
       "38    Male          D                  1  \n",
       "39    Male          D                 45  \n",
       "40    Male          D                 40  \n",
       "41  Female          D                  3  \n",
       "42    Male          D                  2  \n",
       "43  Female          D                  1  \n",
       "44    Male          D                  4  \n",
       "45  Female          D                  0  "
      ]
     },
     "execution_count": 15,
     "metadata": {},
     "output_type": "execute_result"
    }
   ],
   "source": [
    "df"
   ]
  },
  {
   "cell_type": "code",
   "execution_count": 16,
   "id": "503b34f0-47e1-4ae9-a407-9fc4e514e18d",
   "metadata": {},
   "outputs": [
    {
     "data": {
      "text/plain": [
       "['Salary',\n",
       " 'Years_Previous_Experience',\n",
       " 'Years Employed',\n",
       " 'Years_Education',\n",
       " 'Gender',\n",
       " 'Department',\n",
       " 'Number_Supervised']"
      ]
     },
     "execution_count": 16,
     "metadata": {},
     "output_type": "execute_result"
    }
   ],
   "source": [
    "df.columns.tolist()"
   ]
  },
  {
   "cell_type": "code",
   "execution_count": 42,
   "id": "315eea46-2dc8-4e89-8e46-b4a71664f8a4",
   "metadata": {},
   "outputs": [
    {
     "data": {
      "text/plain": [
       "False"
      ]
     },
     "execution_count": 42,
     "metadata": {},
     "output_type": "execute_result"
    }
   ],
   "source": [
    "df.isnull().values.any()"
   ]
  },
  {
   "cell_type": "code",
   "execution_count": 28,
   "id": "e809edaa-841b-4c7c-9987-93ad34c9bcc9",
   "metadata": {},
   "outputs": [
    {
     "data": {
      "text/plain": [
       "39827.391304347824"
      ]
     },
     "execution_count": 28,
     "metadata": {},
     "output_type": "execute_result"
    }
   ],
   "source": [
    "df['Salary'].mean"
   ]
  },
  {
   "cell_type": "code",
   "execution_count": 21,
   "id": "7b5922c0-2746-4400-9e4f-56e321235b44",
   "metadata": {},
   "outputs": [
    {
     "data": {
      "text/plain": [
       "69246"
      ]
     },
     "execution_count": 21,
     "metadata": {},
     "output_type": "execute_result"
    }
   ],
   "source": [
    "df['Salary'].max()"
   ]
  },
  {
   "cell_type": "code",
   "execution_count": 22,
   "id": "27229ee1-a3e2-41ac-9a85-2ba0b6380d82",
   "metadata": {},
   "outputs": [
    {
     "data": {
      "text/plain": [
       "23654"
      ]
     },
     "execution_count": 22,
     "metadata": {},
     "output_type": "execute_result"
    }
   ],
   "source": [
    "df['Salary'].min()"
   ]
  },
  {
   "cell_type": "code",
   "execution_count": 31,
   "id": "35da7edd-9bf5-4af9-b037-a26c90b24f07",
   "metadata": {},
   "outputs": [
    {
     "data": {
      "text/plain": [
       "22"
      ]
     },
     "execution_count": 31,
     "metadata": {},
     "output_type": "execute_result"
    }
   ],
   "source": [
    "df['Gender'].tolist().count('Female')"
   ]
  },
  {
   "cell_type": "markdown",
   "id": "8d5d1ac3-8194-4f2f-a7f3-ae40c5d11eed",
   "metadata": {},
   "source": [
    "value counts function "
   ]
  },
  {
   "cell_type": "code",
   "execution_count": 50,
   "id": "1063ca8a-8f05-4be4-9efb-32601539e3a8",
   "metadata": {},
   "outputs": [
    {
     "data": {
      "text/plain": [
       "Gender\n",
       "Male      24\n",
       "Female    22\n",
       "Name: count, dtype: int64"
      ]
     },
     "execution_count": 50,
     "metadata": {},
     "output_type": "execute_result"
    }
   ],
   "source": [
    "df['Gender'].value_counts()"
   ]
  },
  {
   "cell_type": "code",
   "execution_count": 32,
   "id": "546bb4bd-79bb-4a31-8750-0da6c605c1a2",
   "metadata": {},
   "outputs": [
    {
     "data": {
      "text/plain": [
       "24"
      ]
     },
     "execution_count": 32,
     "metadata": {},
     "output_type": "execute_result"
    }
   ],
   "source": [
    "df['Gender'].tolist().count('Male')"
   ]
  },
  {
   "cell_type": "markdown",
   "id": "ea8b7f34-7be9-4c25-9f93-49c2707d829c",
   "metadata": {},
   "source": [
    "To get Unique value fro coloumn"
   ]
  },
  {
   "cell_type": "code",
   "execution_count": 43,
   "id": "1930b978-4a3e-43f5-9a58-436c35f9844b",
   "metadata": {},
   "outputs": [
    {
     "data": {
      "text/plain": [
       "array(['Male', 'Female'], dtype=object)"
      ]
     },
     "execution_count": 43,
     "metadata": {},
     "output_type": "execute_result"
    }
   ],
   "source": [
    "df[\"Gender\"].unique()"
   ]
  },
  {
   "cell_type": "markdown",
   "id": "deeab9bf-6fa1-4c10-a4eb-c292ad0f91c4",
   "metadata": {},
   "source": [
    "Female Highest Salary"
   ]
  },
  {
   "cell_type": "code",
   "execution_count": 65,
   "id": "e830fdbc-5c28-45f0-9337-643c3003a7cb",
   "metadata": {},
   "outputs": [
    {
     "data": {
      "text/plain": [
       "65487"
      ]
     },
     "execution_count": 65,
     "metadata": {},
     "output_type": "execute_result"
    }
   ],
   "source": [
    "df.groupby(\"Gender\")['Salary'].max()[\"Female\"]\n"
   ]
  },
  {
   "cell_type": "markdown",
   "id": "9b3169bf-3898-422e-b8cf-f0f899b9bbd6",
   "metadata": {},
   "source": [
    "By using df.loc"
   ]
  },
  {
   "cell_type": "code",
   "execution_count": 73,
   "id": "a871cb0c-760f-44ca-950e-01533319347a",
   "metadata": {},
   "outputs": [
    {
     "data": {
      "text/plain": [
       "65487"
      ]
     },
     "execution_count": 73,
     "metadata": {},
     "output_type": "execute_result"
    }
   ],
   "source": [
    "df.loc[df['Gender'] == 'Female','Salary'].max()"
   ]
  },
  {
   "cell_type": "markdown",
   "id": "bc229cc9-d9cc-4857-9211-635cac24096f",
   "metadata": {},
   "source": [
    "Male Lowest Salary"
   ]
  },
  {
   "cell_type": "code",
   "execution_count": 66,
   "id": "cafd7d02-64a0-444a-99ca-086945318ca5",
   "metadata": {},
   "outputs": [
    {
     "data": {
      "text/plain": [
       "26548"
      ]
     },
     "execution_count": 66,
     "metadata": {},
     "output_type": "execute_result"
    }
   ],
   "source": [
    "df.groupby(\"Gender\")['Salary'].min()[\"Male\"]"
   ]
  },
  {
   "cell_type": "code",
   "execution_count": 78,
   "id": "6426e662-058e-4f47-9870-7a90da47e023",
   "metadata": {},
   "outputs": [
    {
     "data": {
      "text/plain": [
       "26548"
      ]
     },
     "execution_count": 78,
     "metadata": {},
     "output_type": "execute_result"
    }
   ],
   "source": [
    "df.loc[df['Gender']=='Male','Salary'].min()"
   ]
  },
  {
   "cell_type": "markdown",
   "id": "2cdfd576-a49e-4004-bd74-f6d3dbf0048e",
   "metadata": {},
   "source": [
    "Avg of Female Salary"
   ]
  },
  {
   "cell_type": "code",
   "execution_count": 67,
   "id": "8eacece1-1c37-47b8-8b04-340d8b205fc1",
   "metadata": {},
   "outputs": [
    {
     "data": {
      "text/plain": [
       "37001.72727272727"
      ]
     },
     "execution_count": 67,
     "metadata": {},
     "output_type": "execute_result"
    }
   ],
   "source": [
    "df.groupby(\"Gender\")['Salary'].mean()[\"Female\"]"
   ]
  },
  {
   "cell_type": "markdown",
   "id": "a35c606c-eb9d-4193-9237-e35b802f5a41",
   "metadata": {},
   "source": [
    "Avg of Male Salary"
   ]
  },
  {
   "cell_type": "code",
   "execution_count": 68,
   "id": "eee48cb0-efbf-4704-be53-463b940c17a6",
   "metadata": {},
   "outputs": [
    {
     "data": {
      "text/plain": [
       "42417.583333333336"
      ]
     },
     "execution_count": 68,
     "metadata": {},
     "output_type": "execute_result"
    }
   ],
   "source": [
    "df.groupby(\"Gender\")['Salary'].mean()[\"Male\"]"
   ]
  },
  {
   "cell_type": "markdown",
   "id": "1fb2ec46-97c9-46e6-a077-2eaa25910497",
   "metadata": {},
   "source": [
    "Creating new dataframe"
   ]
  },
  {
   "cell_type": "code",
   "execution_count": 87,
   "id": "fca6edef-a80d-46d8-8e6f-f85062581f6b",
   "metadata": {},
   "outputs": [
    {
     "data": {
      "text/html": [
       "<div>\n",
       "<style scoped>\n",
       "    .dataframe tbody tr th:only-of-type {\n",
       "        vertical-align: middle;\n",
       "    }\n",
       "\n",
       "    .dataframe tbody tr th {\n",
       "        vertical-align: top;\n",
       "    }\n",
       "\n",
       "    .dataframe thead th {\n",
       "        text-align: right;\n",
       "    }\n",
       "</style>\n",
       "<table border=\"1\" class=\"dataframe\">\n",
       "  <thead>\n",
       "    <tr style=\"text-align: right;\">\n",
       "      <th></th>\n",
       "      <th>Name</th>\n",
       "      <th>PRN</th>\n",
       "      <th>Attendance</th>\n",
       "    </tr>\n",
       "  </thead>\n",
       "  <tbody>\n",
       "    <tr>\n",
       "      <th>0</th>\n",
       "      <td>Abhishek Nautiyal</td>\n",
       "      <td>01</td>\n",
       "      <td>100</td>\n",
       "    </tr>\n",
       "    <tr>\n",
       "      <th>1</th>\n",
       "      <td>Amruta Uttam Shinde</td>\n",
       "      <td>02</td>\n",
       "      <td>87</td>\n",
       "    </tr>\n",
       "    <tr>\n",
       "      <th>2</th>\n",
       "      <td>Anmol Jagdish Pimpale</td>\n",
       "      <td>03</td>\n",
       "      <td>100</td>\n",
       "    </tr>\n",
       "    <tr>\n",
       "      <th>3</th>\n",
       "      <td>Deepshikha Paikara</td>\n",
       "      <td>04</td>\n",
       "      <td>100</td>\n",
       "    </tr>\n",
       "    <tr>\n",
       "      <th>4</th>\n",
       "      <td>Devi lal</td>\n",
       "      <td>05</td>\n",
       "      <td>100</td>\n",
       "    </tr>\n",
       "    <tr>\n",
       "      <th>5</th>\n",
       "      <td>Dnyaneshwari Bhalshankar</td>\n",
       "      <td>06</td>\n",
       "      <td>97</td>\n",
       "    </tr>\n",
       "    <tr>\n",
       "      <th>6</th>\n",
       "      <td>Mahesh Gunaji Kamble</td>\n",
       "      <td>07</td>\n",
       "      <td>99</td>\n",
       "    </tr>\n",
       "    <tr>\n",
       "      <th>7</th>\n",
       "      <td>Maheshwari Bhalshankar</td>\n",
       "      <td>08</td>\n",
       "      <td>89</td>\n",
       "    </tr>\n",
       "    <tr>\n",
       "      <th>8</th>\n",
       "      <td>Maroti Krishna Kasbe</td>\n",
       "      <td>09</td>\n",
       "      <td>98</td>\n",
       "    </tr>\n",
       "    <tr>\n",
       "      <th>9</th>\n",
       "      <td>Rushikesh Ashok Padale</td>\n",
       "      <td>10</td>\n",
       "      <td>100</td>\n",
       "    </tr>\n",
       "    <tr>\n",
       "      <th>10</th>\n",
       "      <td>Sonali Shivaji Waghmare</td>\n",
       "      <td>11</td>\n",
       "      <td>100</td>\n",
       "    </tr>\n",
       "    <tr>\n",
       "      <th>11</th>\n",
       "      <td>Suhas Vikas Ghatkamble</td>\n",
       "      <td>12</td>\n",
       "      <td>100</td>\n",
       "    </tr>\n",
       "    <tr>\n",
       "      <th>12</th>\n",
       "      <td>Swapnil Dasharath Shinde</td>\n",
       "      <td>13</td>\n",
       "      <td>97</td>\n",
       "    </tr>\n",
       "    <tr>\n",
       "      <th>13</th>\n",
       "      <td>Vishwjeet Ramesh Ujgare</td>\n",
       "      <td>14</td>\n",
       "      <td>98</td>\n",
       "    </tr>\n",
       "  </tbody>\n",
       "</table>\n",
       "</div>"
      ],
      "text/plain": [
       "                        Name PRN  Attendance\n",
       "0          Abhishek Nautiyal  01         100\n",
       "1        Amruta Uttam Shinde  02          87\n",
       "2      Anmol Jagdish Pimpale  03         100\n",
       "3         Deepshikha Paikara  04         100\n",
       "4                   Devi lal  05         100\n",
       "5   Dnyaneshwari Bhalshankar  06          97\n",
       "6       Mahesh Gunaji Kamble  07          99\n",
       "7     Maheshwari Bhalshankar  08          89\n",
       "8       Maroti Krishna Kasbe  09          98\n",
       "9     Rushikesh Ashok Padale  10         100\n",
       "10   Sonali Shivaji Waghmare  11         100\n",
       "11    Suhas Vikas Ghatkamble  12         100\n",
       "12  Swapnil Dasharath Shinde  13          97\n",
       "13   Vishwjeet Ramesh Ujgare  14          98"
      ]
     },
     "execution_count": 87,
     "metadata": {},
     "output_type": "execute_result"
    }
   ],
   "source": [
    "# Create an empty DataFrame with column names\n",
    "df = pd.DataFrame(columns=['Name', 'PRN', 'Attendance'])\n",
    "data = {'Name': ['Abhishek Nautiyal', 'Amruta Uttam Shinde','Anmol Jagdish Pimpale','Deepshikha Paikara','Devi lal','Dnyaneshwari Bhalshankar','Mahesh Gunaji Kamble','Maheshwari Bhalshankar','Maroti Krishna Kasbe','Rushikesh Ashok Padale','Sonali Shivaji Waghmare','Suhas Vikas Ghatkamble','Swapnil Dasharath Shinde','Vishwjeet Ramesh Ujgare'], 'PRN': ['01', '02','03','04','05','06','07','08','09','10','11','12','13','14'], 'Attendance': [100,87,100,100,100,97,99,89,98,100,100,100,97,98]}\n",
    "sdf = pd.DataFrame(data)\n",
    "sdf"
   ]
  },
  {
   "cell_type": "code",
   "execution_count": 92,
   "id": "95e9af4c-0909-41dc-b3f7-7e445a32bb93",
   "metadata": {},
   "outputs": [
    {
     "data": {
      "text/plain": [
       "97.5"
      ]
     },
     "execution_count": 92,
     "metadata": {},
     "output_type": "execute_result"
    }
   ],
   "source": [
    "sdf['Attendance'].mean()"
   ]
  },
  {
   "cell_type": "code",
   "execution_count": 93,
   "id": "e61b97e1-3cb8-4271-b689-e86c0d83df73",
   "metadata": {},
   "outputs": [
    {
     "data": {
      "text/plain": [
       "0    100\n",
       "Name: Attendance, dtype: int64"
      ]
     },
     "execution_count": 93,
     "metadata": {},
     "output_type": "execute_result"
    }
   ],
   "source": [
    "sdf['Attendance'].mode()"
   ]
  },
  {
   "cell_type": "code",
   "execution_count": 94,
   "id": "130b1fa9-bba7-4c47-ba9a-86abd6709e3a",
   "metadata": {},
   "outputs": [
    {
     "data": {
      "text/plain": [
       "99.5"
      ]
     },
     "execution_count": 94,
     "metadata": {},
     "output_type": "execute_result"
    }
   ],
   "source": [
    "sdf['Attendance'].median()"
   ]
  },
  {
   "cell_type": "code",
   "execution_count": 96,
   "id": "8b193f5c-104d-4310-81df-f415f3853185",
   "metadata": {},
   "outputs": [
    {
     "data": {
      "text/plain": [
       "4.201648028315336"
      ]
     },
     "execution_count": 96,
     "metadata": {},
     "output_type": "execute_result"
    }
   ],
   "source": [
    "sdf['Attendance'].std()"
   ]
  },
  {
   "cell_type": "code",
   "execution_count": null,
   "id": "cbb8a7bf-d9fe-4953-9daa-8d777767b08b",
   "metadata": {},
   "outputs": [],
   "source": []
  }
 ],
 "metadata": {
  "kernelspec": {
   "display_name": "Python 3 (ipykernel)",
   "language": "python",
   "name": "python3"
  },
  "language_info": {
   "codemirror_mode": {
    "name": "ipython",
    "version": 3
   },
   "file_extension": ".py",
   "mimetype": "text/x-python",
   "name": "python",
   "nbconvert_exporter": "python",
   "pygments_lexer": "ipython3",
   "version": "3.10.12"
  }
 },
 "nbformat": 4,
 "nbformat_minor": 5
}
