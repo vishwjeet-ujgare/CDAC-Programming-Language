{
 "cells": [
  {
   "cell_type": "code",
   "execution_count": 1,
   "id": "fd0c210d-f14e-4318-b403-aceaabd96307",
   "metadata": {},
   "outputs": [],
   "source": [
    "import pandas as pd \n",
    "import numpy as np \n",
    "\n",
    "import matplotlib.pyplot as plt\n",
    "import seaborn as sns\n",
    "\n",
    "\n",
    "import os\n",
    "os.chdir (\"/home/hpcap/Desktop/Analytics and Statistics/Datasets\")"
   ]
  },
  {
   "cell_type": "code",
   "execution_count": null,
   "id": "f7852254-1d0e-4337-969a-29f9fd35f8e6",
   "metadata": {},
   "outputs": [],
   "source": [
    "iris = pd.read_csv(\"iris.csv\")\n",
    "exp_sals = pd.read_csv(\"Exp_Salaries.csv\")"
   ]
  },
  {
   "cell_type": "code",
   "execution_count": null,
   "id": "67d8a60c-d39b-4f5a-80ec-bd05ebcf3339",
   "metadata": {},
   "outputs": [],
   "source": [
    "type(pizza[['Promote']])\n",
    "pandas.core.frame.DataFrame"
   ]
  },
  {
   "cell_type": "code",
   "execution_count": null,
   "id": "1a755449-7b96-42df-a39c-a690b774bce5",
   "metadata": {},
   "outputs": [],
   "source": [
    "from sklearn.liner_model import LinerRegression\n",
    "x=pizza[['Promote']]\n",
    "y=pizza['Sales']\n",
    "lr=LinerRegression()\n",
    "lr.fit(x,y)\n",
    "lr.intercept_,lr.coef_\n"
   ]
  }
 ],
 "metadata": {
  "kernelspec": {
   "display_name": "Python 3 (ipykernel)",
   "language": "python",
   "name": "python3"
  },
  "language_info": {
   "codemirror_mode": {
    "name": "ipython",
    "version": 3
   },
   "file_extension": ".py",
   "mimetype": "text/x-python",
   "name": "python",
   "nbconvert_exporter": "python",
   "pygments_lexer": "ipython3",
   "version": "3.10.12"
  }
 },
 "nbformat": 4,
 "nbformat_minor": 5
}
