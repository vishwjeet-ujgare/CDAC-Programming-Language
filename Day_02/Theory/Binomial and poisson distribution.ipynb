{
 "cells": [
  {
   "cell_type": "code",
   "execution_count": 14,
   "id": "4fdd9d32-e6a8-4d51-9022-bbbca05e7594",
   "metadata": {},
   "outputs": [],
   "source": [
    "from scipy.stats import binom,poisson"
   ]
  },
  {
   "cell_type": "code",
   "execution_count": 15,
   "id": "ebf3e104-71f6-4057-8bb9-130cea1d7af5",
   "metadata": {},
   "outputs": [
    {
     "data": {
      "text/plain": [
       "0.027231742753245948"
      ]
     },
     "execution_count": 15,
     "metadata": {},
     "output_type": "execute_result"
    }
   ],
   "source": [
    "binom.pmf(5,40,.25)"
   ]
  },
  {
   "cell_type": "code",
   "execution_count": 16,
   "id": "9c69304c-b104-4da7-bc11-ec9a8f7d591f",
   "metadata": {},
   "outputs": [
    {
     "data": {
      "text/plain": [
       "0.5839040780287896"
      ]
     },
     "execution_count": 16,
     "metadata": {},
     "output_type": "execute_result"
    }
   ],
   "source": [
    "binom.cdf(10,40,0.25)"
   ]
  },
  {
   "cell_type": "code",
   "execution_count": 17,
   "id": "1d8c4fd6-987a-4fca-9c99-a23c3a6f5f3d",
   "metadata": {},
   "outputs": [
    {
     "data": {
      "text/plain": [
       "0.0005724311071761386"
      ]
     },
     "execution_count": 17,
     "metadata": {},
     "output_type": "execute_result"
    }
   ],
   "source": [
    "binom.sf(19,40,0.25)"
   ]
  },
  {
   "cell_type": "code",
   "execution_count": 18,
   "id": "d9fa8478-bc2f-4f7c-93e5-7eab31f854b4",
   "metadata": {},
   "outputs": [
    {
     "data": {
      "text/plain": [
       "(10.0, 7.5)"
      ]
     },
     "execution_count": 18,
     "metadata": {},
     "output_type": "execute_result"
    }
   ],
   "source": [
    "binom.stats(40,0.25)"
   ]
  },
  {
   "cell_type": "markdown",
   "id": "78f5e754-f35f-4e86-b13e-8b07b4f655cb",
   "metadata": {},
   "source": [
    "Poisson Distribution"
   ]
  },
  {
   "cell_type": "code",
   "execution_count": 20,
   "id": "efdcfc39-35e0-4264-a152-15512c6fbc78",
   "metadata": {},
   "outputs": [
    {
     "data": {
      "text/plain": [
       "0.012740638735861376"
      ]
     },
     "execution_count": 20,
     "metadata": {},
     "output_type": "execute_result"
    }
   ],
   "source": [
    "poisson.pmf(5,12)"
   ]
  },
  {
   "cell_type": "code",
   "execution_count": 25,
   "id": "ebf5c587-5888-4187-839e-e9605aaf1e6d",
   "metadata": {},
   "outputs": [
    {
     "data": {
      "text/plain": [
       "0.5759652485730645"
      ]
     },
     "execution_count": 25,
     "metadata": {},
     "output_type": "execute_result"
    }
   ],
   "source": [
    "poisson.cdf(12,12)"
   ]
  },
  {
   "cell_type": "code",
   "execution_count": 26,
   "id": "02b209b0-2da5-4193-9744-14da072b3e63",
   "metadata": {},
   "outputs": [
    {
     "data": {
      "text/plain": [
       "0.2279754676964551"
      ]
     },
     "execution_count": 26,
     "metadata": {},
     "output_type": "execute_result"
    }
   ],
   "source": [
    "poisson.sf(14,12)"
   ]
  },
  {
   "cell_type": "markdown",
   "id": "4eef22ff-5c6d-4b9c-981c-72c6eb2a69eb",
   "metadata": {},
   "source": [
    "C like code "
   ]
  },
  {
   "cell_type": "code",
   "execution_count": 27,
   "id": "acc10ca2-132a-45ca-ba99-8b59415cdc87",
   "metadata": {},
   "outputs": [
    {
     "name": "stdout",
     "output_type": "stream",
     "text": [
      "0.6020234907796712\n"
     ]
    }
   ],
   "source": [
    "s=0\n",
    "for i in range (10,16):\n",
    "    s+=poisson.pmf(i,12)\n",
    "print(s)"
   ]
  },
  {
   "cell_type": "markdown",
   "id": "3a569568-2c5f-4576-af58-d3c38d53732f",
   "metadata": {},
   "source": [
    "Python like"
   ]
  },
  {
   "cell_type": "code",
   "execution_count": 29,
   "id": "71f2ef26-8758-4300-a758-ee44d82bbbbd",
   "metadata": {},
   "outputs": [],
   "source": [
    "import numpy as np"
   ]
  },
  {
   "cell_type": "code",
   "execution_count": 31,
   "id": "b03467c3-90f8-4721-8053-c35f0ef6803a",
   "metadata": {},
   "outputs": [
    {
     "data": {
      "text/plain": [
       "0.6020234907796712"
      ]
     },
     "execution_count": 31,
     "metadata": {},
     "output_type": "execute_result"
    }
   ],
   "source": [
    "k=np.arange(10,16)\n",
    "np.sum(poisson.pmf(k,12))"
   ]
  },
  {
   "cell_type": "code",
   "execution_count": 32,
   "id": "c7bb600c-71ba-4dcb-8dc4-35a6aa410b92",
   "metadata": {},
   "outputs": [
    {
     "data": {
      "text/plain": [
       "0.6020234907796708"
      ]
     },
     "execution_count": 32,
     "metadata": {},
     "output_type": "execute_result"
    }
   ],
   "source": [
    "poisson.cdf(15,12)-poisson.cdf(9,12)"
   ]
  },
  {
   "cell_type": "raw",
   "id": "02f7e074-0c57-4095-bdfc-dc8409cffd1c",
   "metadata": {},
   "source": [
    "Normal Distribution"
   ]
  },
  {
   "cell_type": "code",
   "execution_count": 33,
   "id": "8e5519f9-15a5-43d4-8558-9b5d1dd95b2e",
   "metadata": {},
   "outputs": [],
   "source": [
    "from scipy.stats import norm"
   ]
  },
  {
   "cell_type": "code",
   "execution_count": 38,
   "id": "b3585eb8-c48b-4e9c-a688-e1d168982d31",
   "metadata": {},
   "outputs": [
    {
     "data": {
      "text/plain": [
       "0.06680720126885807"
      ]
     },
     "execution_count": 38,
     "metadata": {},
     "output_type": "execute_result"
    }
   ],
   "source": [
    "norm.cdf(58,64,4)"
   ]
  },
  {
   "cell_type": "code",
   "execution_count": 40,
   "id": "db6727e8-5b7b-4e46-967e-926bfb5e2091",
   "metadata": {},
   "outputs": [
    {
     "data": {
      "text/plain": [
       "0.2524925375469229"
      ]
     },
     "execution_count": 40,
     "metadata": {},
     "output_type": "execute_result"
    }
   ],
   "source": [
    "norm.sf(200,180,30)"
   ]
  },
  {
   "cell_type": "code",
   "execution_count": null,
   "id": "d575edb0-dcb0-4f8a-8342-9dd78e6e6e29",
   "metadata": {},
   "outputs": [],
   "source": []
  }
 ],
 "metadata": {
  "kernelspec": {
   "display_name": "Python 3 (ipykernel)",
   "language": "python",
   "name": "python3"
  },
  "language_info": {
   "codemirror_mode": {
    "name": "ipython",
    "version": 3
   },
   "file_extension": ".py",
   "mimetype": "text/x-python",
   "name": "python",
   "nbconvert_exporter": "python",
   "pygments_lexer": "ipython3",
   "version": "3.10.12"
  }
 },
 "nbformat": 4,
 "nbformat_minor": 5
}
